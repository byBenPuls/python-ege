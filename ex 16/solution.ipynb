{
 "cells": [
  {
   "cell_type": "markdown",
   "metadata": {},
   "source": [
    "Алгоритм вычисления значения функции *F(n)*, где *n*  –  натуральное число, задан следующими соотношениями:\n",
    "*F(n) = 1* при *n = 1*;  *F(n) =(n – 1)× F(n − 1)*, если *n > 1*.\n",
    "\n",
    "Чему равно значение выражения *(F(2024) + 2 × F(2023)) / F(2022)*?"
   ]
  },
  {
   "cell_type": "code",
   "execution_count": 1,
   "metadata": {},
   "outputs": [
    {
     "data": {
      "text/plain": [
       "4094550.0"
      ]
     },
     "execution_count": 1,
     "metadata": {},
     "output_type": "execute_result"
    }
   ],
   "source": [
    "def f(n: int):\n",
    "    return (n - 1) * f(n - 1) if n != 1 else 1\n",
    "\n",
    "(f(2024) + 2 * f(2023)) / f(2022)"
   ]
  },
  {
   "cell_type": "markdown",
   "metadata": {},
   "source": [
    "Последовательность чисел Падована задается рекуррентным соотношением:\n",
    "\n",
    "*F(1)  =  1;*\n",
    "\n",
    "*F(2)  =  1;*\n",
    "\n",
    "*F(3)  =  1;*\n",
    "\n",
    "*F(n)  =  F(n–3) + F(n–2) при n > 3, где n  — натуральное число.*\n",
    " \n",
    "\n",
    "Чему равно двенадцатое число в последовательности Падована? В ответе запишите только натуральное число."
   ]
  },
  {
   "cell_type": "code",
   "execution_count": 2,
   "metadata": {},
   "outputs": [
    {
     "data": {
      "text/plain": [
       "16"
      ]
     },
     "execution_count": 2,
     "metadata": {},
     "output_type": "execute_result"
    }
   ],
   "source": [
    "def f(n: int):\n",
    "    return f(n - 3) + f(n - 2) if n not in (1, 2, 3) else 1\n",
    "\n",
    "f(12)"
   ]
  },
  {
   "cell_type": "markdown",
   "metadata": {},
   "source": [
    "Алгоритм вычисления значения функции *F(n)*, где *n*  — натуральное число, задан следующими соотношениями:\n",
    "\n",
    "*F(n)  =  1* при *n  =  1;*\n",
    "\n",
    "*F(n)  =  n + F(n − 1), если n чётно;*\n",
    "\n",
    "*F(n)  =  2 × F(n − 2), если n > 1 и при этом n нечётно.*\n",
    "\n",
    " \n",
    "\n",
    "Чему равно значение функции *F(26)*?"
   ]
  },
  {
   "cell_type": "code",
   "execution_count": 3,
   "metadata": {},
   "outputs": [
    {
     "data": {
      "text/plain": [
       "4122"
      ]
     },
     "execution_count": 3,
     "metadata": {},
     "output_type": "execute_result"
    }
   ],
   "source": [
    "def f(n: int):\n",
    "    return n + f(n - 1) if n % 2 == 0 else 1 if n == 1 else 2 * f(n - 2)\n",
    "\n",
    "f(26)"
   ]
  },
  {
   "cell_type": "markdown",
   "metadata": {},
   "source": [
    "Алгоритм вычисления значения функции *F(n)*, где *n*  — натуральное число, задан следующими соотношениями:\n",
    "\n",
    "*F(1)  =  1*;\n",
    "\n",
    "*F(n)  =  F(n – 1) + n*, если *n > 1*.\n",
    "\n",
    " \n",
    "\n",
    "Чему равно значение функции *F(40)*? В ответе запишите только натуральное число."
   ]
  },
  {
   "cell_type": "code",
   "execution_count": 4,
   "metadata": {},
   "outputs": [
    {
     "data": {
      "text/plain": [
       "820"
      ]
     },
     "execution_count": 4,
     "metadata": {},
     "output_type": "execute_result"
    }
   ],
   "source": [
    "def f(n: int):\n",
    "    return f(n - 1) + n if n != 1 else 1\n",
    "\n",
    "f(40)"
   ]
  },
  {
   "cell_type": "markdown",
   "metadata": {},
   "source": [
    "Алгоритм вычисления значения функции F(n), где n  — натуральное число, задан следующими соотношениями:\n",
    "\n",
    "F(1)  =  1;\n",
    "\n",
    "F(n)  =  5 · F(n – 1) + 3 · n при n > 1.\n",
    "\n",
    "\n",
    "Чему равно значение функции F(4)? В ответе запишите только натуральное число."
   ]
  },
  {
   "cell_type": "code",
   "execution_count": 1,
   "metadata": {},
   "outputs": [
    {
     "data": {
      "text/plain": [
       "332"
      ]
     },
     "execution_count": 1,
     "metadata": {},
     "output_type": "execute_result"
    }
   ],
   "source": [
    "def f(n: int):\n",
    "    return 1 if n == 1 else 5 * f(n - 1) + 3 * n\n",
    "\n",
    "f(4)"
   ]
  },
  {
   "cell_type": "markdown",
   "metadata": {},
   "source": [
    "Алгоритм вычисления значения функции F(n), где n  — натуральное число, задан следующими соотношениями:\n",
    "\n",
    "F(n)  =  1 при n  =  1;\n",
    "\n",
    "F(n)  =  n · F(n − 1), если n > 1.\n",
    "\n",
    "\n",
    "Чему равно значение выражения F(2023) / F(2020)?"
   ]
  },
  {
   "cell_type": "code",
   "execution_count": 2,
   "metadata": {},
   "outputs": [
    {
     "data": {
      "text/plain": [
       "8266912626.0"
      ]
     },
     "execution_count": 2,
     "metadata": {},
     "output_type": "execute_result"
    }
   ],
   "source": [
    "def f(n: int):\n",
    "    return 1 if n == 1 else n * f(n - 1)\n",
    "\n",
    "\n",
    "f(2023) / f(2020)"
   ]
  }
 ],
 "metadata": {
  "kernelspec": {
   "display_name": ".venv",
   "language": "python",
   "name": "python3"
  },
  "language_info": {
   "codemirror_mode": {
    "name": "ipython",
    "version": 3
   },
   "file_extension": ".py",
   "mimetype": "text/x-python",
   "name": "python",
   "nbconvert_exporter": "python",
   "pygments_lexer": "ipython3",
   "version": "3.12.3"
  }
 },
 "nbformat": 4,
 "nbformat_minor": 2
}
