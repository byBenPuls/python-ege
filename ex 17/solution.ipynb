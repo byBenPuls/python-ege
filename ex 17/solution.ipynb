{
 "cells": [
  {
   "cell_type": "markdown",
   "metadata": {},
   "source": [
    "В   файле   содержится   последовательность   натуральных   чисел. Её  элементы  могут  принимать  целые  значения  от  1  до  100 000 включительно. Определите количество пар последовательности, в которых остаток от деления хотя бы одного из элементов на 16 равен минимальному элементу  последовательности.  В  ответе  запишите  количество  найденных пар, затем максимальную из сумм элементов таких пар. В данной задаче под парой подразумевается два идущих подряд элемента последовательности. "
   ]
  },
  {
   "cell_type": "code",
   "execution_count": 39,
   "metadata": {},
   "outputs": [
    {
     "data": {
      "text/plain": [
       "(1214, 176024)"
      ]
     },
     "execution_count": 39,
     "metadata": {},
     "output_type": "execute_result"
    }
   ],
   "source": [
    "with open(\"assets/17.txt\") as file:\n",
    "    nums = tuple(map(int, file.read().split()))\n",
    "    min_num = min(nums)\n",
    "    pairs = ((nums[i], nums[i + 1]) for i in range(len(nums) - 1))\n",
    "    result = tuple(filter(lambda i: min_num in (i[0] % 16, i[1] % 16), pairs))\n",
    "\n",
    "len(result), max((i + j for i, j in result))"
   ]
  },
  {
   "cell_type": "markdown",
   "metadata": {},
   "source": [
    "Файл содержит последовательность натуральных чисел, не превышающих 100 000. Назовём тройкой три идущих подряд элемента последовательности.\n",
    "\n",
    "Определите количество троек, для которых выполняются следующие условия:\n",
    "\n",
    "—  остаток от деления на 3 ровно одного числа из тройки равен остатку от деления на 3 максимального элемента всей последовательности;\n",
    "\n",
    "—  остаток от деления на 7 хотя бы двух чисел из тройки равен остатку от деления на 7 минимального элемента всей последовательности.\n",
    "\n",
    "В ответе запишите два числа: сначала количество найденных троек, затем максимальную величину суммы элементов этих троек."
   ]
  },
  {
   "cell_type": "code",
   "execution_count": null,
   "metadata": {},
   "outputs": [
    {
     "data": {
      "text/plain": [
       "(278, 268089)"
      ]
     },
     "execution_count": 27,
     "metadata": {},
     "output_type": "execute_result"
    }
   ],
   "source": [
    "counter = 0\n",
    "summary = []\n",
    "\n",
    "with open(\"assets/17-1.txt\") as file:\n",
    "    nums = tuple(map(int, file.read().split()))\n",
    "    threes = tuple((nums[i], nums[i + 1], nums[i + 2]) for i in range(len(nums) - 2))\n",
    "\n",
    "    max_num = max(nums)\n",
    "    min_num = min(nums)\n",
    "\n",
    "    for i, j, k in threes:\n",
    "        first_stmt = len([1 for num in (i, j, k) if num % 3 == max_num % 3]) == 1\n",
    "        second_stmt = len([1 for num in (i, j, k) if num % 7 == min_num % 7]) in [2, 3]\n",
    "\n",
    "        if first_stmt and second_stmt:\n",
    "            counter += 1\n",
    "            summary.append(i + j + k)\n",
    "\n",
    "counter, max(summary)"
   ]
  },
  {
   "cell_type": "markdown",
   "metadata": {},
   "source": [
    "Элементы последовательности могут принимать целые значения от 1 до 100 000 включительно. Определите количество троек последовательности, в которых только одно из чисел является четырёхзначным, a сумма элементов тройки нe меньше максимального элемента последовательности, оканчивающегося на 15. В ответе запишите количество найденных троек, затем максимальную из сумм элементов таких троек. В данной задаче под тройкой подразумевается три идущих подряд элемента последовательности."
   ]
  },
  {
   "cell_type": "code",
   "execution_count": null,
   "metadata": {},
   "outputs": [
    {
     "data": {
      "text/plain": [
       "(299, 196183)"
      ]
     },
     "execution_count": 37,
     "metadata": {},
     "output_type": "execute_result"
    }
   ],
   "source": [
    "counter = 0\n",
    "summary = []\n",
    "\n",
    "with open(\"assets/17-2.txt\") as file:\n",
    "    nums = tuple(map(int, file.read().split()))\n",
    "\n",
    "    max_num = 0\n",
    "    for i in nums:\n",
    "        if i > max_num and str(i)[-2:] == \"15\":\n",
    "            max_num = i\n",
    "\n",
    "    threes = tuple((nums[i], nums[i + 1], nums[i + 2]) for i in range(len(nums) - 2))\n",
    "\n",
    "    for i, j, k in threes:\n",
    "        first_stmt = len([1 for i in (i, j, k) if len(str(i)) == 4]) == 1\n",
    "        second_stmt = i + j + k >= max_num\n",
    "\n",
    "        if first_stmt and second_stmt:\n",
    "            counter += 1\n",
    "            summary.append(i + j + k)\n",
    "            \n",
    "counter, max(summary)"
   ]
  },
  {
   "cell_type": "markdown",
   "metadata": {},
   "source": [
    "В файле содержится последовательность из 10 000 целых положительных чисел. Каждое число не превышает 10 000. Определите и запишите в ответе сначала количество пар элементов последовательности, у которых разность элементов кратна 60, затем максимальную из разностей элементов таких пар. В данной задаче под парой подразумевается два различных элемента последовательности. Порядок элементов в паре не важен."
   ]
  },
  {
   "cell_type": "code",
   "execution_count": 38,
   "metadata": {},
   "outputs": [
    {
     "data": {
      "text/plain": [
       "(832722, 9960)"
      ]
     },
     "execution_count": 38,
     "metadata": {},
     "output_type": "execute_result"
    }
   ],
   "source": [
    "counter =  0\n",
    "summary = []\n",
    "\n",
    "with open(\"assets/17-3.txt\") as file:\n",
    "    nums = tuple(map(int, file.read().split()))\n",
    "    \n",
    "    for i in range(len(nums)):\n",
    "        for k in range(i + 1, len(nums)):\n",
    "            if abs(nums[i] - nums[k]) % 60 == 0:\n",
    "                counter += 1\n",
    "                summary.append(abs(nums[i] - nums[k]))\n",
    "\n",
    "counter, max(summary)"
   ]
  },
  {
   "cell_type": "markdown",
   "metadata": {},
   "source": [
    "В файле содержится последовательность из 10 000 натуральных чисел. Каждое число не превышает 10 000. Определите и запишите в ответе сначала количество пар элементов последовательности, у которых различные остатки от деления на d  =  160 и хотя бы одно из чисел делится на p  =  7, затем максимальную из сумм элементов таких пар. В данной задаче под парой подразумевается два различных элемента последовательности. Порядок элементов в паре не важен.\n",
    "\n",
    "Пример входных данных:\n",
    "\n",
    "168\n",
    "\n",
    "7\n",
    "\n",
    "320\n",
    "\n",
    "328\n",
    "\n",
    "Пример выходных данных для приведённого выше примера входных данных:\n",
    "\n",
    "4 488\n",
    "\n",
    "Пояснение. Из 4 чисел можно составить 6 пар. В данном случае условиям удовлетворяют пары: 168 и 320, 168 и 7, 320 и 7, 328 и 7. Максимальную сумму дает пара 168 и 320  — 488."
   ]
  },
  {
   "cell_type": "code",
   "execution_count": 5,
   "metadata": {},
   "outputs": [
    {
     "name": "stdout",
     "output_type": "stream",
     "text": [
      "12749665 19989\n"
     ]
    }
   ],
   "source": [
    "counter = 0\n",
    "summary = []\n",
    "\n",
    "\n",
    "with open(\"assets/17-4.txt\") as file:\n",
    "    nums = tuple(int(i) for i in file.read().split())\n",
    "    for i in range(len(nums)):\n",
    "        for j in range(i + 1, len(nums)):\n",
    "            if nums[i] % 160 != nums[j] % 160 and (nums[i] % 7 == 0 or nums[j] % 7 == 0):\n",
    "                summary.append(nums[i] + nums[j])\n",
    "                counter += 1\n",
    "\n",
    "print(counter, max(summary))"
   ]
  }
 ],
 "metadata": {
  "kernelspec": {
   "display_name": ".venv",
   "language": "python",
   "name": "python3"
  },
  "language_info": {
   "codemirror_mode": {
    "name": "ipython",
    "version": 3
   },
   "file_extension": ".py",
   "mimetype": "text/x-python",
   "name": "python",
   "nbconvert_exporter": "python",
   "pygments_lexer": "ipython3",
   "version": "3.12.3"
  }
 },
 "nbformat": 4,
 "nbformat_minor": 2
}
