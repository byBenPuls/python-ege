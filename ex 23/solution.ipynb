{
 "cells": [
  {
   "cell_type": "markdown",
   "metadata": {},
   "source": [
    "Исполнитель преобразует число на экране. У исполнителя есть две команды, которые обозначены латинскими буквами: \n",
    "* A. Вычти 2 \n",
    "* B. Найди целую часть от деления на 2Программа для исполнителя – это последовательность команд. \n",
    "\n",
    "Сколько  существует  программ,  для  которых  при  исходном  числе  38 результатом является число 2 и при этом траектория вычислений содержит число 16? \n",
    "\n",
    "Траектория  вычислений  программы  –  это  последовательность  результатов выполнения всех команд программы.  \n",
    "Например, для программы **ABB** при исходном числе 13 траектория состоит из чисел 11, 5, 2."
   ]
  },
  {
   "cell_type": "code",
   "execution_count": 1,
   "metadata": {},
   "outputs": [
    {
     "data": {
      "text/plain": [
       "36"
      ]
     },
     "execution_count": 1,
     "metadata": {},
     "output_type": "execute_result"
    }
   ],
   "source": [
    "def f(n: int, target: int):\n",
    "    return 0 if n < target else 1 if n == target else f(n - 2, target) + f(n // 2, target)\n",
    "\n",
    "\n",
    "f(38, 16) * f(16, 2)"
   ]
  },
  {
   "cell_type": "code",
   "execution_count": null,
   "metadata": {},
   "outputs": [],
   "source": []
  }
 ],
 "metadata": {
  "kernelspec": {
   "display_name": ".venv",
   "language": "python",
   "name": "python3"
  },
  "language_info": {
   "codemirror_mode": {
    "name": "ipython",
    "version": 3
   },
   "file_extension": ".py",
   "mimetype": "text/x-python",
   "name": "python",
   "nbconvert_exporter": "python",
   "pygments_lexer": "ipython3",
   "version": "3.12.3"
  }
 },
 "nbformat": 4,
 "nbformat_minor": 2
}
