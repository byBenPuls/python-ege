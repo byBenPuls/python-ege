{
 "cells": [
  {
   "cell_type": "markdown",
   "metadata": {},
   "source": [
    "Автомат получает на вход пятизначное число. По этому числу строится новое число по следующим правилам.\n",
    "\n",
    "1.  Складываются отдельно первая, третья и пятая цифры, а также вторая и четвёртая цифры.\n",
    "\n",
    "2.  Полученные два числа записываются друг за другом в порядке неубывания без разделителей.\n",
    "\n",
    "Пример. Исходное число: 63 179. Суммы: 6 + 1 + 9  =  16; 3 + 7  =  10. Результат: 1016.\n",
    "\n",
    " \n",
    "\n",
    "Укажите наименьшее число, при обработке которого автомат выдаёт результат 723."
   ]
  },
  {
   "cell_type": "code",
   "execution_count": null,
   "metadata": {},
   "outputs": [],
   "source": [
    "for i in range(10_000, 100_000):\n",
    "    r1 = int(str(i)[0]) + int(str(i)[2]) + int(str(i)[4])\n",
    "    r2 = int(str(i)[1]) + int(str(i)[3])\n",
    "\n",
    "    min, max = sorted((r1, r2))\n",
    "\n",
    "    if f\"{min}{max}\" == \"723\":\n",
    "        print(i)\n",
    "        break"
   ]
  }
 ],
 "metadata": {
  "kernelspec": {
   "display_name": ".venv",
   "language": "python",
   "name": "python3"
  },
  "language_info": {
   "codemirror_mode": {
    "name": "ipython",
    "version": 3
   },
   "file_extension": ".py",
   "mimetype": "text/x-python",
   "name": "python",
   "nbconvert_exporter": "python",
   "pygments_lexer": "ipython3",
   "version": "3.12.3"
  }
 },
 "nbformat": 4,
 "nbformat_minor": 2
}
